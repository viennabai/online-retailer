{
 "cells": [
  {
   "cell_type": "markdown",
   "metadata": {},
   "source": [
    "### Summary of Key Findings\n",
    "\n",
    "KMeans-clustering identified 4 groups based on our customers' spending habbits (Recency, Frequency, and Monetary value). Summarized as:\n",
    "\n",
    "**All Groups** (excluding 1.5% outliers)\n",
    "* Median Recency 50 days, although the range is wide\n",
    "* Median Frequency 1-38x \n",
    "* Median Monetary is 650, max of 20,000\n",
    "\n",
    "Group 1 ***Most customers*** (55% of customers => **30% of sales**)\n",
    "* Frequency is low (median 2x and max of 9x) \n",
    "* Monetary is low (median 600, max below 4,000) \n",
    "\n",
    "Group 2 ***High potential*** (23% of customers => **40% of sales**)  \n",
    "* On average, they bought not so long ago (median 16 says); although the max is almost 10 months ago \n",
    "* Frequency tends to be a lot higher than Group 1 (median of 9x) \n",
    "* Median monetary value 4.5x that of Group 1 \n",
    "* **To-do**: more engaged, higher spending, could be a focus group\n",
    "\n",
    "Group 3 - ***Lost customers*** (18% of customers => **7% of sales**)\n",
    "* Last purchase was at least over 4 months ago \n",
    "* Did not purchase often, and median spending was low \n",
    "\n",
    "Group 4 - ***Best customers*** (3% of customers => **23% of sales**)\n",
    "* High Frequency, high Monetary  \n",
    "* **To-do**: follow up with those with high recency "
   ]
  },
  {
   "cell_type": "code",
   "execution_count": 322,
   "metadata": {},
   "outputs": [
    {
     "data": {
      "text/html": [
       "<div>\n",
       "<style scoped>\n",
       "    .dataframe tbody tr th:only-of-type {\n",
       "        vertical-align: middle;\n",
       "    }\n",
       "\n",
       "    .dataframe tbody tr th {\n",
       "        vertical-align: top;\n",
       "    }\n",
       "\n",
       "    .dataframe thead th {\n",
       "        text-align: right;\n",
       "    }\n",
       "</style>\n",
       "<table border=\"1\" class=\"dataframe\">\n",
       "  <thead>\n",
       "    <tr style=\"text-align: right;\">\n",
       "      <th></th>\n",
       "      <th>Group</th>\n",
       "      <th>% of sales</th>\n",
       "    </tr>\n",
       "  </thead>\n",
       "  <tbody>\n",
       "    <tr>\n",
       "      <td>0</td>\n",
       "      <td>1</td>\n",
       "      <td>30.6</td>\n",
       "    </tr>\n",
       "    <tr>\n",
       "      <td>1</td>\n",
       "      <td>2</td>\n",
       "      <td>39.9</td>\n",
       "    </tr>\n",
       "    <tr>\n",
       "      <td>2</td>\n",
       "      <td>3</td>\n",
       "      <td>7.1</td>\n",
       "    </tr>\n",
       "    <tr>\n",
       "      <td>3</td>\n",
       "      <td>4</td>\n",
       "      <td>22.5</td>\n",
       "    </tr>\n",
       "  </tbody>\n",
       "</table>\n",
       "</div>"
      ],
      "text/plain": [
       "   Group  % of sales\n",
       "0      1        30.6\n",
       "1      2        39.9\n",
       "2      3         7.1\n",
       "3      4        22.5"
      ]
     },
     "execution_count": 322,
     "metadata": {},
     "output_type": "execute_result"
    }
   ],
   "source": [
    "summ_value = pd.DataFrame(value, columns=['Group', '% of sales']); summ_value"
   ]
  },
  {
   "cell_type": "code",
   "execution_count": 324,
   "metadata": {},
   "outputs": [
    {
     "data": {
      "text/html": [
       "<div>\n",
       "<style scoped>\n",
       "    .dataframe tbody tr th:only-of-type {\n",
       "        vertical-align: middle;\n",
       "    }\n",
       "\n",
       "    .dataframe tbody tr th {\n",
       "        vertical-align: top;\n",
       "    }\n",
       "\n",
       "    .dataframe thead th {\n",
       "        text-align: right;\n",
       "    }\n",
       "</style>\n",
       "<table border=\"1\" class=\"dataframe\">\n",
       "  <thead>\n",
       "    <tr style=\"text-align: right;\">\n",
       "      <th></th>\n",
       "      <th>Minimum</th>\n",
       "      <th>Median</th>\n",
       "      <th>Maximum</th>\n",
       "    </tr>\n",
       "  </thead>\n",
       "  <tbody>\n",
       "    <tr>\n",
       "      <td>Group</td>\n",
       "      <td>ALL</td>\n",
       "      <td></td>\n",
       "      <td></td>\n",
       "    </tr>\n",
       "    <tr>\n",
       "      <td>Recency</td>\n",
       "      <td>0</td>\n",
       "      <td>50</td>\n",
       "      <td>373</td>\n",
       "    </tr>\n",
       "    <tr>\n",
       "      <td>Frequency</td>\n",
       "      <td>1</td>\n",
       "      <td>3</td>\n",
       "      <td>38</td>\n",
       "    </tr>\n",
       "    <tr>\n",
       "      <td>Monetary</td>\n",
       "      <td>1.46</td>\n",
       "      <td>668.23</td>\n",
       "      <td>19543.8</td>\n",
       "    </tr>\n",
       "    <tr>\n",
       "      <td>Group</td>\n",
       "      <td>1</td>\n",
       "      <td></td>\n",
       "      <td></td>\n",
       "    </tr>\n",
       "    <tr>\n",
       "      <td>Recency</td>\n",
       "      <td>0</td>\n",
       "      <td>41</td>\n",
       "      <td>156</td>\n",
       "    </tr>\n",
       "    <tr>\n",
       "      <td>Frequency</td>\n",
       "      <td>1</td>\n",
       "      <td>2</td>\n",
       "      <td>9</td>\n",
       "    </tr>\n",
       "    <tr>\n",
       "      <td>Monetary</td>\n",
       "      <td>1.46</td>\n",
       "      <td>596.28</td>\n",
       "      <td>3857.85</td>\n",
       "    </tr>\n",
       "    <tr>\n",
       "      <td>Group</td>\n",
       "      <td>2</td>\n",
       "      <td></td>\n",
       "      <td></td>\n",
       "    </tr>\n",
       "    <tr>\n",
       "      <td>Recency</td>\n",
       "      <td>0</td>\n",
       "      <td>16</td>\n",
       "      <td>289</td>\n",
       "    </tr>\n",
       "    <tr>\n",
       "      <td>Frequency</td>\n",
       "      <td>2</td>\n",
       "      <td>9</td>\n",
       "      <td>24</td>\n",
       "    </tr>\n",
       "    <tr>\n",
       "      <td>Monetary</td>\n",
       "      <td>324.93</td>\n",
       "      <td>2737.34</td>\n",
       "      <td>9530.08</td>\n",
       "    </tr>\n",
       "    <tr>\n",
       "      <td>Group</td>\n",
       "      <td>3</td>\n",
       "      <td></td>\n",
       "      <td></td>\n",
       "    </tr>\n",
       "    <tr>\n",
       "      <td>Recency</td>\n",
       "      <td>142</td>\n",
       "      <td>233</td>\n",
       "      <td>373</td>\n",
       "    </tr>\n",
       "    <tr>\n",
       "      <td>Frequency</td>\n",
       "      <td>1</td>\n",
       "      <td>1</td>\n",
       "      <td>10</td>\n",
       "    </tr>\n",
       "    <tr>\n",
       "      <td>Monetary</td>\n",
       "      <td>2.95</td>\n",
       "      <td>285.3</td>\n",
       "      <td>6116.92</td>\n",
       "    </tr>\n",
       "    <tr>\n",
       "      <td>Group</td>\n",
       "      <td>4</td>\n",
       "      <td></td>\n",
       "      <td></td>\n",
       "    </tr>\n",
       "    <tr>\n",
       "      <td>Recency</td>\n",
       "      <td>0</td>\n",
       "      <td>10</td>\n",
       "      <td>199</td>\n",
       "    </tr>\n",
       "    <tr>\n",
       "      <td>Frequency</td>\n",
       "      <td>1</td>\n",
       "      <td>21</td>\n",
       "      <td>38</td>\n",
       "    </tr>\n",
       "    <tr>\n",
       "      <td>Monetary</td>\n",
       "      <td>2367.81</td>\n",
       "      <td>8173.86</td>\n",
       "      <td>19543.8</td>\n",
       "    </tr>\n",
       "  </tbody>\n",
       "</table>\n",
       "</div>"
      ],
      "text/plain": [
       "           Minimum   Median  Maximum\n",
       "Group          ALL                  \n",
       "Recency          0       50      373\n",
       "Frequency        1        3       38\n",
       "Monetary      1.46   668.23  19543.8\n",
       "Group            1                  \n",
       "Recency          0       41      156\n",
       "Frequency        1        2        9\n",
       "Monetary      1.46   596.28  3857.85\n",
       "Group            2                  \n",
       "Recency          0       16      289\n",
       "Frequency        2        9       24\n",
       "Monetary    324.93  2737.34  9530.08\n",
       "Group            3                  \n",
       "Recency        142      233      373\n",
       "Frequency        1        1       10\n",
       "Monetary      2.95    285.3  6116.92\n",
       "Group            4                  \n",
       "Recency          0       10      199\n",
       "Frequency        1       21       38\n",
       "Monetary   2367.81  8173.86  19543.8"
      ]
     },
     "execution_count": 324,
     "metadata": {},
     "output_type": "execute_result"
    }
   ],
   "source": [
    "final"
   ]
  },
  {
   "cell_type": "markdown",
   "metadata": {
    "heading_collapsed": true
   },
   "source": [
    "## Detailed Analysis"
   ]
  },
  {
   "cell_type": "code",
   "execution_count": 25,
   "metadata": {
    "hidden": true
   },
   "outputs": [],
   "source": [
    "import pandas as pd\n",
    "import numpy as np\n",
    "import feather \n",
    "\n",
    "from sklearn import preprocessing \n",
    "from sklearn.cluster import KMeans\n",
    "\n",
    "import matplotlib.pyplot as plt\n",
    "from mpl_toolkits.mplot3d import Axes3D\n",
    "import seaborn as sns \n",
    "sns.set()"
   ]
  },
  {
   "cell_type": "code",
   "execution_count": 86,
   "metadata": {
    "hidden": true,
    "scrolled": true
   },
   "outputs": [
    {
     "data": {
      "text/html": [
       "<div>\n",
       "<style scoped>\n",
       "    .dataframe tbody tr th:only-of-type {\n",
       "        vertical-align: middle;\n",
       "    }\n",
       "\n",
       "    .dataframe tbody tr th {\n",
       "        vertical-align: top;\n",
       "    }\n",
       "\n",
       "    .dataframe thead th {\n",
       "        text-align: right;\n",
       "    }\n",
       "</style>\n",
       "<table border=\"1\" class=\"dataframe\">\n",
       "  <thead>\n",
       "    <tr style=\"text-align: right;\">\n",
       "      <th></th>\n",
       "      <th>CustomerID</th>\n",
       "      <th>Recency</th>\n",
       "      <th>Frequency</th>\n",
       "      <th>Monetary</th>\n",
       "    </tr>\n",
       "  </thead>\n",
       "  <tbody>\n",
       "    <tr>\n",
       "      <td>0</td>\n",
       "      <td>18102</td>\n",
       "      <td>0.0</td>\n",
       "      <td>95</td>\n",
       "      <td>341776.73</td>\n",
       "    </tr>\n",
       "    <tr>\n",
       "      <td>1</td>\n",
       "      <td>14646</td>\n",
       "      <td>9.0</td>\n",
       "      <td>87</td>\n",
       "      <td>243853.05</td>\n",
       "    </tr>\n",
       "    <tr>\n",
       "      <td>2</td>\n",
       "      <td>14156</td>\n",
       "      <td>6.0</td>\n",
       "      <td>138</td>\n",
       "      <td>183180.55</td>\n",
       "    </tr>\n",
       "    <tr>\n",
       "      <td>3</td>\n",
       "      <td>14911</td>\n",
       "      <td>0.0</td>\n",
       "      <td>270</td>\n",
       "      <td>137675.91</td>\n",
       "    </tr>\n",
       "    <tr>\n",
       "      <td>4</td>\n",
       "      <td>13694</td>\n",
       "      <td>8.0</td>\n",
       "      <td>105</td>\n",
       "      <td>128172.42</td>\n",
       "    </tr>\n",
       "  </tbody>\n",
       "</table>\n",
       "</div>"
      ],
      "text/plain": [
       "  CustomerID  Recency  Frequency   Monetary\n",
       "0      18102      0.0         95  341776.73\n",
       "1      14646      9.0         87  243853.05\n",
       "2      14156      6.0        138  183180.55\n",
       "3      14911      0.0        270  137675.91\n",
       "4      13694      8.0        105  128172.42"
      ]
     },
     "execution_count": 86,
     "metadata": {},
     "output_type": "execute_result"
    }
   ],
   "source": [
    "raw_data = feather.read_dataframe(\"data_RFM.feather\")\n",
    "raw_data.head()"
   ]
  },
  {
   "cell_type": "code",
   "execution_count": 87,
   "metadata": {
    "hidden": true
   },
   "outputs": [
    {
     "data": {
      "text/plain": [
       "(4288, 4)"
      ]
     },
     "execution_count": 87,
     "metadata": {},
     "output_type": "execute_result"
    }
   ],
   "source": [
    "raw_data.shape"
   ]
  },
  {
   "cell_type": "markdown",
   "metadata": {
    "hidden": true
   },
   "source": [
    "### Outliers Treatment\n",
    "\n",
    "k-means is sensitive to outliers. let's examine the distributions"
   ]
  },
  {
   "cell_type": "code",
   "execution_count": 104,
   "metadata": {
    "hidden": true
   },
   "outputs": [
    {
     "data": {
      "text/plain": [
       "<matplotlib.axes._subplots.AxesSubplot at 0x2c7ae608c88>"
      ]
     },
     "execution_count": 104,
     "metadata": {},
     "output_type": "execute_result"
    },
    {
     "data": {
      "image/png": "[encoded data removed]",
      "text/plain": [
       "<Figure size 432x288 with 1 Axes>"
      ]
     },
     "metadata": {},
     "output_type": "display_data"
    }
   ],
   "source": [
    "sns.distplot(raw_data['Recency'])"
   ]
  },
  {
   "cell_type": "code",
   "execution_count": 105,
   "metadata": {
    "hidden": true,
    "scrolled": true
   },
   "outputs": [
    {
     "data": {
      "text/plain": [
       "<matplotlib.axes._subplots.AxesSubplot at 0x2c7ae6aec48>"
      ]
     },
     "execution_count": 105,
     "metadata": {},
     "output_type": "execute_result"
    },
    {
     "data": {
      "image/png": "[encoded data removed]",
      "text/plain": [
       "<Figure size 432x288 with 1 Axes>"
      ]
     },
     "metadata": {},
     "output_type": "display_data"
    }
   ],
   "source": [
    "sns.distplot(raw_data['Frequency'])"
   ]
  },
  {
   "cell_type": "code",
   "execution_count": 61,
   "metadata": {
    "hidden": true,
    "scrolled": true
   },
   "outputs": [
    {
     "data": {
      "text/plain": [
       "<matplotlib.axes._subplots.AxesSubplot at 0x2c7acd5b408>"
      ]
     },
     "execution_count": 61,
     "metadata": {},
     "output_type": "execute_result"
    },
    {
     "data": {
      "image/png": "[encoded data removed]",
      "text/plain": [
       "<Figure size 432x288 with 1 Axes>"
      ]
     },
     "metadata": {},
     "output_type": "display_data"
    }
   ],
   "source": [
    "sns.distplot(raw_data['Monetary'])"
   ]
  },
  {
   "cell_type": "markdown",
   "metadata": {
    "hidden": true
   },
   "source": [
    "We see that outliers for Frequency and Monetary are pronounced. Let's take out values > 99% percentile of either of these categories   \n",
    "In total we will remove 1.4% of the data"
   ]
  },
  {
   "cell_type": "code",
   "execution_count": 57,
   "metadata": {
    "hidden": true,
    "scrolled": true
   },
   "outputs": [
    {
     "data": {
      "text/plain": [
       "38.13000000000011"
      ]
     },
     "execution_count": 57,
     "metadata": {},
     "output_type": "execute_result"
    }
   ],
   "source": [
    "max_f = raw_data['Frequency'].quantile(0.99); max_f"
   ]
  },
  {
   "cell_type": "code",
   "execution_count": 58,
   "metadata": {
    "hidden": true
   },
   "outputs": [
    {
     "data": {
      "text/plain": [
       "19557.57710000001"
      ]
     },
     "execution_count": 58,
     "metadata": {},
     "output_type": "execute_result"
    }
   ],
   "source": [
    "max_m = raw_data['Monetary'].quantile(0.99); max_m"
   ]
  },
  {
   "cell_type": "code",
   "execution_count": 97,
   "metadata": {
    "hidden": true
   },
   "outputs": [],
   "source": [
    "data = raw_data[(raw_data['Frequency'] < max_f) & (raw_data['Monetary'] < max_m)]\n",
    "\n",
    "#percentage that will be deleted \n",
    "(raw_data.shape[0] - data.shape[0]) / raw_data.shape[0] * 100"
   ]
  },
  {
   "cell_type": "markdown",
   "metadata": {
    "hidden": true
   },
   "source": [
    "### Feature Scaling\n",
    "k-means clustering is very sensitive to scale and outliers "
   ]
  },
  {
   "cell_type": "code",
   "execution_count": 189,
   "metadata": {
    "hidden": true
   },
   "outputs": [],
   "source": [
    "x_unscaled = data.drop(['CustomerID'], axis = 1)"
   ]
  },
  {
   "cell_type": "code",
   "execution_count": 190,
   "metadata": {
    "hidden": true
   },
   "outputs": [
    {
     "data": {
      "text/plain": [
       "array([[-0.8201696 ,  0.48855455,  9.18085468],\n",
       "       [-0.68491132,  3.51127131,  8.59132355],\n",
       "       [-0.40399029,  1.89915571,  8.23437667],\n",
       "       ...,\n",
       "       [ 0.53241316, -0.72053215, -0.69381313],\n",
       "       [ 2.79018591, -0.72053215, -0.69421741],\n",
       "       [-0.0918558 , -0.5190177 , -0.69497039]])"
      ]
     },
     "execution_count": 190,
     "metadata": {},
     "output_type": "execute_result"
    }
   ],
   "source": [
    "X = preprocessing.scale(x_unscaled); X"
   ]
  },
  {
   "cell_type": "code",
   "execution_count": 191,
   "metadata": {
    "hidden": true
   },
   "outputs": [
    {
     "data": {
      "text/plain": [
       "array([ 2.68953957e-17, -5.37907914e-17,  0.00000000e+00])"
      ]
     },
     "execution_count": 191,
     "metadata": {},
     "output_type": "execute_result"
    }
   ],
   "source": [
    "X.mean(axis=0)"
   ]
  },
  {
   "cell_type": "code",
   "execution_count": 192,
   "metadata": {
    "hidden": true
   },
   "outputs": [
    {
     "data": {
      "text/plain": [
       "array([1., 1., 1.])"
      ]
     },
     "execution_count": 192,
     "metadata": {},
     "output_type": "execute_result"
    }
   ],
   "source": [
    "X.std(axis=0)"
   ]
  },
  {
   "cell_type": "markdown",
   "metadata": {
    "hidden": true
   },
   "source": [
    "Let's visualize the data before applying k-means"
   ]
  },
  {
   "cell_type": "code",
   "execution_count": 103,
   "metadata": {
    "hidden": true
   },
   "outputs": [
    {
     "data": {
      "image/png": "[encoded data removed]",
      "text/plain": [
       "<Figure size 432x288 with 1 Axes>"
      ]
     },
     "metadata": {},
     "output_type": "display_data"
    }
   ],
   "source": [
    "fig = plt.figure()\n",
    "ax = fig.add_subplot(111, projection='3d')\n",
    "\n",
    "x = x_scaled[:,0]\n",
    "y = x_scaled[:,1]\n",
    "z = x_scaled[:,2]\n",
    "\n",
    "ax.scatter(x, y, z, c = 'r', marker = 'o')\n",
    "#ax.scatter(x,y,z, marker=\"s\", c=df[\"Cluster\"], s=40, cmap=\"RdBu\")\n",
    "\n",
    "ax.set_xlabel('R')\n",
    "ax.set_ylabel('F')\n",
    "ax.set_zlabel('M')\n",
    "\n",
    "plt.show()"
   ]
  },
  {
   "cell_type": "markdown",
   "metadata": {
    "hidden": true
   },
   "source": [
    "### K-Means Clustering\n",
    "We will look at 3 clusters, then use the Elbow Method to determine a more optimal K"
   ]
  },
  {
   "cell_type": "code",
   "execution_count": 175,
   "metadata": {
    "hidden": true
   },
   "outputs": [],
   "source": [
    "kmeans = KMeans(n_clusters=3, n_init=50, random_state=42)\n",
    "identified_c = kmeans.fit_predict(X)"
   ]
  },
  {
   "cell_type": "code",
   "execution_count": 176,
   "metadata": {
    "hidden": true
   },
   "outputs": [],
   "source": [
    "df_clusters = data.copy()\n",
    "df_clusters['Clusters'] = identified_c"
   ]
  },
  {
   "cell_type": "code",
   "execution_count": 177,
   "metadata": {
    "hidden": true
   },
   "outputs": [
    {
     "data": {
      "image/png": "[encoded data removed]",
      "text/plain": [
       "<Figure size 432x288 with 1 Axes>"
      ]
     },
     "metadata": {},
     "output_type": "display_data"
    }
   ],
   "source": [
    "fig = plt.figure()\n",
    "ax = fig.add_subplot(111, projection='3d')\n",
    "\n",
    "x = df_clusters['Recency']\n",
    "y = df_clusters['Frequency']\n",
    "z = df_clusters['Monetary']\n",
    "\n",
    "ax.scatter(x, y, z, marker=\"s\", c=df_clusters[\"Clusters\"], s=40, cmap=\"rainbow\")\n",
    "\n",
    "ax.set_xlabel('R')\n",
    "ax.set_ylabel('F')\n",
    "ax.set_zlabel('M')\n",
    "\n",
    "#print(ax.azim)\n",
    "ax.view_init(azim=210)\n",
    "\n",
    "plt.show()"
   ]
  },
  {
   "cell_type": "markdown",
   "metadata": {
    "hidden": true
   },
   "source": [
    "#### Elbow Method"
   ]
  },
  {
   "cell_type": "code",
   "execution_count": 178,
   "metadata": {
    "hidden": true
   },
   "outputs": [],
   "source": [
    "def find_elbow(df, kmax):\n",
    "    score = []\n",
    "    for k in range(1, kmax+1):\n",
    "        kmeans = KMeans(n_clusters=k, n_init=50, random_state=42)\n",
    "        kmeans.fit(df)\n",
    "        score.append(kmeans.inertia_)\n",
    "    return score\n",
    "\n",
    "scores = find_elbow(X, 10)"
   ]
  },
  {
   "cell_type": "code",
   "execution_count": 179,
   "metadata": {
    "hidden": true,
    "scrolled": true
   },
   "outputs": [
    {
     "data": {
      "text/plain": [
       "<function matplotlib.pyplot.show(*args, **kw)>"
      ]
     },
     "execution_count": 179,
     "metadata": {},
     "output_type": "execute_result"
    },
    {
     "data": {
      "image/png": "[encoded data removed]",
      "text/plain": [
       "<Figure size 432x288 with 1 Axes>"
      ]
     },
     "metadata": {},
     "output_type": "display_data"
    }
   ],
   "source": [
    "plt.plot(range(1,11), scores)\n",
    "plt.title(\"Elbow Method - K\")\n",
    "plt.xlabel(\"K clusters\")\n",
    "plt.ylabel(\"Cost\")\n",
    "plt.show"
   ]
  },
  {
   "cell_type": "code",
   "execution_count": 180,
   "metadata": {
    "hidden": true
   },
   "outputs": [
    {
     "data": {
      "text/plain": [
       "array([3, 3, 3, ..., 0, 2, 0])"
      ]
     },
     "execution_count": 180,
     "metadata": {},
     "output_type": "execute_result"
    }
   ],
   "source": [
    "kmeans = KMeans(n_clusters=4, n_init=50, random_state=42)\n",
    "identified_c = kmeans.fit_predict(X)\n",
    "identified_c"
   ]
  },
  {
   "cell_type": "code",
   "execution_count": 196,
   "metadata": {
    "hidden": true
   },
   "outputs": [
    {
     "data": {
      "text/html": [
       "<div>\n",
       "<style scoped>\n",
       "    .dataframe tbody tr th:only-of-type {\n",
       "        vertical-align: middle;\n",
       "    }\n",
       "\n",
       "    .dataframe tbody tr th {\n",
       "        vertical-align: top;\n",
       "    }\n",
       "\n",
       "    .dataframe thead th {\n",
       "        text-align: right;\n",
       "    }\n",
       "</style>\n",
       "<table border=\"1\" class=\"dataframe\">\n",
       "  <thead>\n",
       "    <tr style=\"text-align: right;\">\n",
       "      <th></th>\n",
       "      <th>CustomerID</th>\n",
       "      <th>Recency</th>\n",
       "      <th>Frequency</th>\n",
       "      <th>Monetary</th>\n",
       "      <th>Clusters</th>\n",
       "    </tr>\n",
       "  </thead>\n",
       "  <tbody>\n",
       "    <tr>\n",
       "      <td>43</td>\n",
       "      <td>12415</td>\n",
       "      <td>10.0</td>\n",
       "      <td>7</td>\n",
       "      <td>19543.84</td>\n",
       "      <td>4</td>\n",
       "    </tr>\n",
       "    <tr>\n",
       "      <td>47</td>\n",
       "      <td>14258</td>\n",
       "      <td>23.0</td>\n",
       "      <td>22</td>\n",
       "      <td>18377.27</td>\n",
       "      <td>4</td>\n",
       "    </tr>\n",
       "    <tr>\n",
       "      <td>51</td>\n",
       "      <td>18008</td>\n",
       "      <td>50.0</td>\n",
       "      <td>14</td>\n",
       "      <td>17670.94</td>\n",
       "      <td>4</td>\n",
       "    </tr>\n",
       "    <tr>\n",
       "      <td>52</td>\n",
       "      <td>15856</td>\n",
       "      <td>0.0</td>\n",
       "      <td>28</td>\n",
       "      <td>17643.77</td>\n",
       "      <td>4</td>\n",
       "    </tr>\n",
       "    <tr>\n",
       "      <td>54</td>\n",
       "      <td>16210</td>\n",
       "      <td>3.0</td>\n",
       "      <td>21</td>\n",
       "      <td>17217.76</td>\n",
       "      <td>4</td>\n",
       "    </tr>\n",
       "    <tr>\n",
       "      <td>...</td>\n",
       "      <td>...</td>\n",
       "      <td>...</td>\n",
       "      <td>...</td>\n",
       "      <td>...</td>\n",
       "      <td>...</td>\n",
       "    </tr>\n",
       "    <tr>\n",
       "      <td>4283</td>\n",
       "      <td>15040</td>\n",
       "      <td>176.0</td>\n",
       "      <td>1</td>\n",
       "      <td>7.49</td>\n",
       "      <td>3</td>\n",
       "    </tr>\n",
       "    <tr>\n",
       "      <td>4284</td>\n",
       "      <td>15913</td>\n",
       "      <td>169.0</td>\n",
       "      <td>1</td>\n",
       "      <td>6.30</td>\n",
       "      <td>3</td>\n",
       "    </tr>\n",
       "    <tr>\n",
       "      <td>4285</td>\n",
       "      <td>13788</td>\n",
       "      <td>140.0</td>\n",
       "      <td>1</td>\n",
       "      <td>3.75</td>\n",
       "      <td>1</td>\n",
       "    </tr>\n",
       "    <tr>\n",
       "      <td>4286</td>\n",
       "      <td>14095</td>\n",
       "      <td>357.0</td>\n",
       "      <td>1</td>\n",
       "      <td>2.95</td>\n",
       "      <td>3</td>\n",
       "    </tr>\n",
       "    <tr>\n",
       "      <td>4287</td>\n",
       "      <td>14906</td>\n",
       "      <td>80.0</td>\n",
       "      <td>2</td>\n",
       "      <td>1.46</td>\n",
       "      <td>1</td>\n",
       "    </tr>\n",
       "  </tbody>\n",
       "</table>\n",
       "<p>4227 rows × 5 columns</p>\n",
       "</div>"
      ],
      "text/plain": [
       "     CustomerID  Recency  Frequency  Monetary  Clusters\n",
       "43        12415     10.0          7  19543.84         4\n",
       "47        14258     23.0         22  18377.27         4\n",
       "51        18008     50.0         14  17670.94         4\n",
       "52        15856      0.0         28  17643.77         4\n",
       "54        16210      3.0         21  17217.76         4\n",
       "...         ...      ...        ...       ...       ...\n",
       "4283      15040    176.0          1      7.49         3\n",
       "4284      15913    169.0          1      6.30         3\n",
       "4285      13788    140.0          1      3.75         1\n",
       "4286      14095    357.0          1      2.95         3\n",
       "4287      14906     80.0          2      1.46         1\n",
       "\n",
       "[4227 rows x 5 columns]"
      ]
     },
     "execution_count": 196,
     "metadata": {},
     "output_type": "execute_result"
    }
   ],
   "source": [
    "df_clusters = data.copy()\n",
    "df_clusters['Clusters'] = identified_c + 1\n",
    "df_clusters"
   ]
  },
  {
   "cell_type": "code",
   "execution_count": 197,
   "metadata": {
    "hidden": true
   },
   "outputs": [
    {
     "data": {
      "image/png": "[encoded data removed]",
      "text/plain": [
       "<Figure size 432x288 with 1 Axes>"
      ]
     },
     "metadata": {},
     "output_type": "display_data"
    }
   ],
   "source": [
    "fig = plt.figure()\n",
    "ax = fig.add_subplot(111, projection='3d')\n",
    "\n",
    "x = df_clusters['Recency']\n",
    "y = df_clusters['Frequency']\n",
    "z = df_clusters['Monetary']\n",
    "\n",
    "ax.scatter(x, y, z, marker=\"s\", c=df_clusters[\"Clusters\"], s=40, cmap=\"rainbow\")\n",
    "\n",
    "ax.set_xlabel('R')\n",
    "ax.set_ylabel('F')\n",
    "ax.set_zlabel('M')\n",
    "\n",
    "#print(ax.azim)\n",
    "ax.view_init(azim=210)\n",
    "\n",
    "plt.show()"
   ]
  },
  {
   "cell_type": "markdown",
   "metadata": {
    "hidden": true
   },
   "source": [
    "### Analyzing Clusters"
   ]
  },
  {
   "cell_type": "code",
   "execution_count": 207,
   "metadata": {
    "hidden": true,
    "scrolled": true
   },
   "outputs": [
    {
     "data": {
      "text/plain": [
       "['Recency', 'Frequency', 'Monetary']"
      ]
     },
     "execution_count": 207,
     "metadata": {},
     "output_type": "execute_result"
    }
   ],
   "source": [
    "measures = ['Recency', 'Frequency', 'Monetary']\n",
    "measures"
   ]
  },
  {
   "cell_type": "code",
   "execution_count": 286,
   "metadata": {
    "hidden": true
   },
   "outputs": [],
   "source": [
    "#dataframe summary of ALL groups\n",
    "\n",
    "summ = [['ALL',' ',' ']]\n",
    "for m in measures:\n",
    "    a = []\n",
    "    a.append(np.min(df_clusters[m]))\n",
    "    a.append(np.median(df_clusters[m]))\n",
    "    a.append(np.max(df_clusters[m]))\n",
    "    summ.append(a)\n",
    "final = pd.DataFrame(summ)\n",
    "\n",
    "#add summary of individual cluster groups\n",
    "\n",
    "for cluster in range(1,5):\n",
    "    subset = df_clusters[df_clusters['Clusters']==cluster]\n",
    "    summ = [[cluster,' ',' ']]\n",
    "    for m in measures:\n",
    "        a = []\n",
    "        #a.append(m)\n",
    "        a.append(np.min(subset[m]))\n",
    "        a.append(np.median(subset[m]))\n",
    "        a.append(np.max(subset[m]))\n",
    "        summ.append(a)\n",
    "    \n",
    "    new = pd.DataFrame(summ)\n",
    "    final = pd.concat([final, new])\n",
    "\n",
    "final = final.rename(columns={0: 'Minimum', 1: 'Median', 2: 'Maximum'}, \n",
    "             index={0: 'Group', 1: 'Recency', 2: 'Frequency', 3: 'Monetary'})"
   ]
  },
  {
   "cell_type": "code",
   "execution_count": 287,
   "metadata": {
    "hidden": true,
    "scrolled": false
   },
   "outputs": [
    {
     "data": {
      "text/html": [
       "<div>\n",
       "<style scoped>\n",
       "    .dataframe tbody tr th:only-of-type {\n",
       "        vertical-align: middle;\n",
       "    }\n",
       "\n",
       "    .dataframe tbody tr th {\n",
       "        vertical-align: top;\n",
       "    }\n",
       "\n",
       "    .dataframe thead th {\n",
       "        text-align: right;\n",
       "    }\n",
       "</style>\n",
       "<table border=\"1\" class=\"dataframe\">\n",
       "  <thead>\n",
       "    <tr style=\"text-align: right;\">\n",
       "      <th></th>\n",
       "      <th>Minimum</th>\n",
       "      <th>Median</th>\n",
       "      <th>Maximum</th>\n",
       "    </tr>\n",
       "  </thead>\n",
       "  <tbody>\n",
       "    <tr>\n",
       "      <td>Group</td>\n",
       "      <td>ALL</td>\n",
       "      <td></td>\n",
       "      <td></td>\n",
       "    </tr>\n",
       "    <tr>\n",
       "      <td>Recency</td>\n",
       "      <td>0</td>\n",
       "      <td>50</td>\n",
       "      <td>373</td>\n",
       "    </tr>\n",
       "    <tr>\n",
       "      <td>Frequency</td>\n",
       "      <td>1</td>\n",
       "      <td>3</td>\n",
       "      <td>38</td>\n",
       "    </tr>\n",
       "    <tr>\n",
       "      <td>Monetary</td>\n",
       "      <td>1.46</td>\n",
       "      <td>668.23</td>\n",
       "      <td>19543.8</td>\n",
       "    </tr>\n",
       "    <tr>\n",
       "      <td>Group</td>\n",
       "      <td>1</td>\n",
       "      <td></td>\n",
       "      <td></td>\n",
       "    </tr>\n",
       "    <tr>\n",
       "      <td>Recency</td>\n",
       "      <td>0</td>\n",
       "      <td>41</td>\n",
       "      <td>156</td>\n",
       "    </tr>\n",
       "    <tr>\n",
       "      <td>Frequency</td>\n",
       "      <td>1</td>\n",
       "      <td>2</td>\n",
       "      <td>9</td>\n",
       "    </tr>\n",
       "    <tr>\n",
       "      <td>Monetary</td>\n",
       "      <td>1.46</td>\n",
       "      <td>596.28</td>\n",
       "      <td>3857.85</td>\n",
       "    </tr>\n",
       "    <tr>\n",
       "      <td>Group</td>\n",
       "      <td>2</td>\n",
       "      <td></td>\n",
       "      <td></td>\n",
       "    </tr>\n",
       "    <tr>\n",
       "      <td>Recency</td>\n",
       "      <td>0</td>\n",
       "      <td>16</td>\n",
       "      <td>289</td>\n",
       "    </tr>\n",
       "    <tr>\n",
       "      <td>Frequency</td>\n",
       "      <td>2</td>\n",
       "      <td>9</td>\n",
       "      <td>24</td>\n",
       "    </tr>\n",
       "    <tr>\n",
       "      <td>Monetary</td>\n",
       "      <td>324.93</td>\n",
       "      <td>2737.34</td>\n",
       "      <td>9530.08</td>\n",
       "    </tr>\n",
       "    <tr>\n",
       "      <td>Group</td>\n",
       "      <td>3</td>\n",
       "      <td></td>\n",
       "      <td></td>\n",
       "    </tr>\n",
       "    <tr>\n",
       "      <td>Recency</td>\n",
       "      <td>142</td>\n",
       "      <td>233</td>\n",
       "      <td>373</td>\n",
       "    </tr>\n",
       "    <tr>\n",
       "      <td>Frequency</td>\n",
       "      <td>1</td>\n",
       "      <td>1</td>\n",
       "      <td>10</td>\n",
       "    </tr>\n",
       "    <tr>\n",
       "      <td>Monetary</td>\n",
       "      <td>2.95</td>\n",
       "      <td>285.3</td>\n",
       "      <td>6116.92</td>\n",
       "    </tr>\n",
       "    <tr>\n",
       "      <td>Group</td>\n",
       "      <td>4</td>\n",
       "      <td></td>\n",
       "      <td></td>\n",
       "    </tr>\n",
       "    <tr>\n",
       "      <td>Recency</td>\n",
       "      <td>0</td>\n",
       "      <td>10</td>\n",
       "      <td>199</td>\n",
       "    </tr>\n",
       "    <tr>\n",
       "      <td>Frequency</td>\n",
       "      <td>1</td>\n",
       "      <td>21</td>\n",
       "      <td>38</td>\n",
       "    </tr>\n",
       "    <tr>\n",
       "      <td>Monetary</td>\n",
       "      <td>2367.81</td>\n",
       "      <td>8173.86</td>\n",
       "      <td>19543.8</td>\n",
       "    </tr>\n",
       "  </tbody>\n",
       "</table>\n",
       "</div>"
      ],
      "text/plain": [
       "           Minimum   Median  Maximum\n",
       "Group          ALL                  \n",
       "Recency          0       50      373\n",
       "Frequency        1        3       38\n",
       "Monetary      1.46   668.23  19543.8\n",
       "Group            1                  \n",
       "Recency          0       41      156\n",
       "Frequency        1        2        9\n",
       "Monetary      1.46   596.28  3857.85\n",
       "Group            2                  \n",
       "Recency          0       16      289\n",
       "Frequency        2        9       24\n",
       "Monetary    324.93  2737.34  9530.08\n",
       "Group            3                  \n",
       "Recency        142      233      373\n",
       "Frequency        1        1       10\n",
       "Monetary      2.95    285.3  6116.92\n",
       "Group            4                  \n",
       "Recency          0       10      199\n",
       "Frequency        1       21       38\n",
       "Monetary   2367.81  8173.86  19543.8"
      ]
     },
     "execution_count": 287,
     "metadata": {},
     "output_type": "execute_result"
    }
   ],
   "source": [
    "final"
   ]
  },
  {
   "cell_type": "code",
   "execution_count": 278,
   "metadata": {
    "hidden": true,
    "scrolled": false
   },
   "outputs": [
    {
     "data": {
      "text/plain": [
       "1    2353\n",
       "3     967\n",
       "2     760\n",
       "4     147\n",
       "Name: Clusters, dtype: int64"
      ]
     },
     "execution_count": 278,
     "metadata": {},
     "output_type": "execute_result"
    }
   ],
   "source": [
    "df_clusters[\"Clusters\"].value_counts()"
   ]
  },
  {
   "cell_type": "code",
   "execution_count": 321,
   "metadata": {
    "hidden": true
   },
   "outputs": [
    {
     "data": {
      "text/plain": [
       "[[1, 30.6], [2, 39.9], [3, 7.1], [4, 22.5]]"
      ]
     },
     "execution_count": 321,
     "metadata": {},
     "output_type": "execute_result"
    }
   ],
   "source": [
    "value = []\n",
    "t = sum(df_clusters[\"Monetary\"])\n",
    "for i in range(1, 5):\n",
    "    a = sum(df_clusters[df_clusters[\"Clusters\"]==i]['Monetary'])\n",
    "    value.append([i, round(a/t*100, 1)])"
   ]
  },
  {
   "cell_type": "code",
   "execution_count": 322,
   "metadata": {
    "hidden": true
   },
   "outputs": [
    {
     "data": {
      "text/html": [
       "<div>\n",
       "<style scoped>\n",
       "    .dataframe tbody tr th:only-of-type {\n",
       "        vertical-align: middle;\n",
       "    }\n",
       "\n",
       "    .dataframe tbody tr th {\n",
       "        vertical-align: top;\n",
       "    }\n",
       "\n",
       "    .dataframe thead th {\n",
       "        text-align: right;\n",
       "    }\n",
       "</style>\n",
       "<table border=\"1\" class=\"dataframe\">\n",
       "  <thead>\n",
       "    <tr style=\"text-align: right;\">\n",
       "      <th></th>\n",
       "      <th>Group</th>\n",
       "      <th>% of sales</th>\n",
       "    </tr>\n",
       "  </thead>\n",
       "  <tbody>\n",
       "    <tr>\n",
       "      <td>0</td>\n",
       "      <td>1</td>\n",
       "      <td>30.6</td>\n",
       "    </tr>\n",
       "    <tr>\n",
       "      <td>1</td>\n",
       "      <td>2</td>\n",
       "      <td>39.9</td>\n",
       "    </tr>\n",
       "    <tr>\n",
       "      <td>2</td>\n",
       "      <td>3</td>\n",
       "      <td>7.1</td>\n",
       "    </tr>\n",
       "    <tr>\n",
       "      <td>3</td>\n",
       "      <td>4</td>\n",
       "      <td>22.5</td>\n",
       "    </tr>\n",
       "  </tbody>\n",
       "</table>\n",
       "</div>"
      ],
      "text/plain": [
       "   Group  % of sales\n",
       "0      1        30.6\n",
       "1      2        39.9\n",
       "2      3         7.1\n",
       "3      4        22.5"
      ]
     },
     "execution_count": 322,
     "metadata": {},
     "output_type": "execute_result"
    }
   ],
   "source": [
    "summ_value = pd.DataFrame(value, columns=['Group', '% of sales']); summ_value"
   ]
  },
  {
   "cell_type": "code",
   "execution_count": null,
   "metadata": {
    "hidden": true
   },
   "outputs": [],
   "source": []
  }
 ],
 "metadata": {
  "kernelspec": {
   "display_name": "Python 3",
   "language": "python",
   "name": "python3"
  },
  "language_info": {
   "codemirror_mode": {
    "name": "ipython",
    "version": 3
   },
   "file_extension": ".py",
   "mimetype": "text/x-python",
   "name": "python",
   "nbconvert_exporter": "python",
   "pygments_lexer": "ipython3",
   "version": "3.7.4"
  }
 },
 "nbformat": 4,
 "nbformat_minor": 2
}
